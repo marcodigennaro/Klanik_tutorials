{
 "cells": [
  {
   "cell_type": "code",
   "execution_count": 1,
   "metadata": {},
   "outputs": [
    {
     "name": "stdout",
     "output_type": "stream",
     "text": [
      "\n",
      " LOCATION {'AUT', 'ESP', 'HUN', 'DEU', 'SVK', 'SVN', 'BEL', 'NZL', 'DNK', 'FRA', 'ISR', 'GRC', 'OECD', 'EST', 'PRT', 'USA', 'CHE', 'COL', 'NLD', 'AUS', 'CAN', 'GBR', 'FIN', 'ISL', 'MEX', 'LUX', 'LVA', 'BRA', 'POL', 'CZE', 'NOR', 'ITA', 'JPN', 'SWE', 'CHL', 'IRL', 'LTU', 'TUR', 'KOR', 'RUS', 'ZAF'}\n",
      "\n",
      " Country {'Chile', 'Lithuania', 'Denmark', 'Hungary', 'Luxembourg', 'Norway', 'Netherlands', 'Germany', 'New Zealand', 'United States', 'Iceland', 'Poland', 'Finland', 'Turkey', 'Korea', 'Latvia', 'Mexico', 'Israel', 'Slovenia', 'Estonia', 'South Africa', 'Ireland', 'France', 'Canada', 'Portugal', 'Czech Republic', 'Greece', 'Spain', 'Italy', 'Belgium', 'Austria', 'Sweden', 'Slovak Republic', 'Colombia', 'OECD - Total', 'Switzerland', 'Brazil', 'Russia', 'Australia', 'Japan', 'United Kingdom'}\n",
      "\n",
      " INDICATOR {'WL_EWLH', 'JE_PEARN', 'ES_EDUA', 'SC_SNTWS', 'CG_VOTO', 'HS_LEB', 'WL_TNOW', 'IW_HADI', 'PS_REPH', 'HO_BASE', 'JE_LMIS', 'JE_LTUR', 'HO_NUMR', 'HS_SFRH', 'JE_EMPL', 'IW_HNFW', 'ES_STCS', 'EQ_AIRP', 'PS_FSAFEN', 'CG_SENG', 'HO_HISH', 'EQ_WATER', 'ES_EDUEX', 'SW_LIFS'}\n",
      "\n",
      " Indicator {'Household net adjusted disposable income', 'Employment rate', 'Personal earnings', 'Dwellings without basic facilities', 'Student skills', 'Housing expenditure', 'Life satisfaction', 'Life expectancy', 'Air pollution', 'Homicide rate', 'Feeling safe walking alone at night', 'Long-term unemployment rate', 'Stakeholder engagement for developing regulations', 'Household net wealth', 'Employees working very long hours', 'Educational attainment', 'Voter turnout', 'Quality of support network', 'Time devoted to leisure and personal care', 'Water quality', 'Labour market insecurity', 'Years in education', 'Rooms per person', 'Self-reported health'}\n"
     ]
    }
   ],
   "source": [
    "# Happiness\n",
    "oecd_df = pd.read_csv('BLI_23112019114830785.csv')\n",
    "\n",
    "for column in oecd_df.columns[:4]:\n",
    "    print( '\\n', column,  set(oecd_df[column].values) )\n",
    "    \n",
    "#print( set(tot_df1['Indicator'].values) )\n",
    "#part_df1.sort_values(['Country'], inplace=True)\n",
    "#part_df1.reset_index(drop=True, inplace=True)\n",
    "#len(part_df1)"
   ]
  },
  {
   "cell_type": "code",
   "execution_count": 17,
   "metadata": {},
   "outputs": [],
   "source": [
    "var_1 = 'Life satisfaction'\n",
    "var_2 = 'Homicide rate'\n",
    "#var_2 = 'Personal earnings'\n",
    "\n",
    "df1 = oecd_df.loc[ oecd_df['Indicator'] == var_1][['Country','Value']]\n",
    "df1 = df1.groupby('Country').mean()\n",
    "df2 = oecd_df.loc[ oecd_df['Indicator'] == var_2][['Country','Value']]\n",
    "df2 = df2.groupby('Country').mean()\n",
    "\n",
    "df1.reset_index(inplace=True)\n",
    "df1.rename( columns={'Value' : var_1}, inplace=True)\n",
    "\n",
    "df2.reset_index(inplace=True)\n",
    "df2.rename( columns={'Value' : var_2}, inplace=True)\n",
    "\n",
    "my_df = df1.merge(df2, on=\"Country\", left_index=True, right_index=True)"
   ]
  },
  {
   "cell_type": "code",
   "execution_count": 18,
   "metadata": {},
   "outputs": [],
   "source": [
    "weo_df = pd.read_csv('WEO_Data.csv')\n",
    "for idx, row in my_df.iterrows():\n",
    "    tmp_line = weo_df.loc[weo_df['Country'] == row['Country'] ] \n",
    "    if not tmp_line.empty:\n",
    "        gdp = float(tmp_line['2015'].values[0].replace(',',''))\n",
    "        my_df.loc[idx,'GDP'] = gdp\n",
    "\n",
    "my_df.dropna(inplace=True)"
   ]
  },
  {
   "cell_type": "code",
   "execution_count": 19,
   "metadata": {},
   "outputs": [],
   "source": [
    "from sklearn.linear_model import LinearRegression\n",
    "\n",
    "import random\n",
    "\n",
    "guess_country_idx = random.randint(0,40) # USA"
   ]
  },
  {
   "cell_type": "code",
   "execution_count": 20,
   "metadata": {},
   "outputs": [],
   "source": [
    "X = np.c_[my_df['GDP']]\n",
    "y = np.c_[my_df[var_1]]"
   ]
  },
  {
   "cell_type": "code",
   "execution_count": 21,
   "metadata": {},
   "outputs": [],
   "source": [
    "X_train = X[:-1]\n",
    "y_train = y[:-1]\n",
    "X_test  = X[-1][0]\n",
    "y_test  = y[-1][0]"
   ]
  },
  {
   "cell_type": "code",
   "execution_count": 22,
   "metadata": {},
   "outputs": [],
   "source": [
    "model = LinearRegression()\n",
    "model.fit(X_train,y_train)\n",
    "y_0 = model.predict(X_test)"
   ]
  },
  {
   "cell_type": "code",
   "execution_count": 23,
   "metadata": {},
   "outputs": [
    {
     "data": {
      "image/png": "[encoded data removed]",
      "text/plain": [
       "<Figure size 432x288 with 1 Axes>"
      ]
     },
     "metadata": {},
     "output_type": "display_data"
    }
   ],
   "source": [
    "import  matplotlib.pyplot as plt\n",
    "\n",
    "plt.scatter(X,y)\n",
    "plt.scatter(X_test, y_test, label = 'test')\n",
    "plt.scatter(X_test, y_0, label = 'pred')\n",
    "plt.ylabel('life satisfaction')\n",
    "plt.xlabel('GDP')\n",
    "plt.legend()\n",
    "plt.show()"
   ]
  },
  {
   "cell_type": "code",
   "execution_count": 24,
   "metadata": {},
   "outputs": [],
   "source": [
    "## Introduce a new variable\n",
    "\n",
    "X = np.c_[my_df[['GDP', var_2]]]\n",
    "\n",
    "X_train = X[:-1]\n",
    "X_test  = [X[-1]]\n",
    "\n",
    "model = LinearRegression()\n",
    "model.fit(X_train,y_train)\n",
    "y_1 = model.predict(X_test)\n"
   ]
  },
  {
   "cell_type": "code",
   "execution_count": 25,
   "metadata": {},
   "outputs": [
    {
     "data": {
      "image/png": "[encoded data removed]",
      "text/plain": [
       "<Figure size 432x288 with 1 Axes>"
      ]
     },
     "metadata": {},
     "output_type": "display_data"
    }
   ],
   "source": [
    "plt.scatter(y_0,y_0, color='b', marker = 's', label='GDP only')\n",
    "plt.scatter(y_1,y_1, color='g', marker = 'o', label='GDP + {}'.format(var_2))\n",
    "plt.scatter(y_test,y_test, color='r', marker = '+', label='true')\n",
    "\n",
    "#plt.ylim([6.9,7.3])\n",
    "#plt.xlim([6.9,7.3])\n",
    "plt.legend()\n",
    "plt.show()"
   ]
  }
 ],
 "metadata": {
  "kernelspec": {
   "display_name": "Python 3",
   "language": "python",
   "name": "python3"
  },
  "language_info": {
   "codemirror_mode": {
    "name": "ipython",
    "version": 3
   },
   "file_extension": ".py",
   "mimetype": "text/x-python",
   "name": "python",
   "nbconvert_exporter": "python",
   "pygments_lexer": "ipython3",
   "version": "3.6.8"
  }
 },
 "nbformat": 4,
 "nbformat_minor": 2
}
