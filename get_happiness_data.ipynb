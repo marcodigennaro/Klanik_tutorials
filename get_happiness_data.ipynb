{
 "cells": [
  {
   "cell_type": "code",
   "execution_count": null,
   "metadata": {},
   "outputs": [],
   "source": [
    "# download data from OECD: https://goo.gl/0Eht9W\n",
    "# download data from IMF: https://goo.gl/j1MSKe\n",
    "\n",
    "# Happiness\n",
    "oecd_csv = 'BLI_23112019114830785.csv'\n",
    "oecd_df = pd.read_csv(oecd_csv)\n",
    "\n",
    "for column in oecd_df.columns[:4]:\n",
    "    print( '\\n', column,  set(oecd_df[column].values) )"
   ]
  },
  {
   "cell_type": "code",
   "execution_count": null,
   "metadata": {
    "collapsed": true
   },
   "outputs": [],
   "source": [
    "var_1 = 'Life satisfaction'\n",
    "var_2 = 'Homicide rate'\n",
    "var_3 = 'Personal earnings'\n",
    "\n",
    "df1 = oecd_df.loc[ oecd_df['Indicator'] == var_1][['Country','Value']]\n",
    "df1 = df1.groupby('Country').mean()\n",
    "df2 = oecd_df.loc[ oecd_df['Indicator'] == var_2][['Country','Value']]\n",
    "df2 = df2.groupby('Country').mean()\n",
    "df3 = oecd_df.loc[ oecd_df['Indicator'] == var_3][['Country','Value']]\n",
    "df3 = df3.groupby('Country').mean()\n",
    "\n",
    "df1.reset_index(inplace=True)\n",
    "df1.rename( columns={'Value' : var_1}, inplace=True)\n",
    "\n",
    "df2.reset_index(inplace=True)\n",
    "df2.rename( columns={'Value' : var_2}, inplace=True)\n",
    "\n",
    "df3.reset_index(inplace=True)\n",
    "df3.rename( columns={'Value' : var_3}, inplace=True)\n",
    "\n",
    "my_df = df1.merge(df2, on=\"Country\", left_index=True, right_index=True).merge(df3, on=\"Country\", left_index=True, right_index=True)\n"
   ]
  },
  {
   "cell_type": "code",
   "execution_count": null,
   "metadata": {},
   "outputs": [],
   "source": [
    "weo_csv = 'WEO_Data.csv'\n",
    "\n",
    "weo_df = pd.read_csv(weo_csv)\n",
    "for idx, row in my_df.iterrows():\n",
    "    tmp_line = weo_df.loc[weo_df['Country'] == row['Country'] ] \n",
    "    if not tmp_line.empty:\n",
    "        gdp = float(tmp_line['2015'].values[0].replace(',',''))\n",
    "        my_df.loc[idx,'GDP'] = gdp\n",
    "my_df.dropna(inplace=True)\n",
    "\n",
    "my_df"
   ]
  },
  {
   "cell_type": "code",
   "execution_count": null,
   "metadata": {
    "collapsed": true
   },
   "outputs": [],
   "source": [
    "my_df.to_csv('countries.csv')"
   ]
  }
 ],
 "metadata": {
  "kernelspec": {
   "display_name": "Python 3",
   "language": "python",
   "name": "python3"
  },
  "language_info": {
   "codemirror_mode": {
    "name": "ipython",
    "version": 3
   },
   "file_extension": ".py",
   "mimetype": "text/x-python",
   "name": "python",
   "nbconvert_exporter": "python",
   "pygments_lexer": "ipython3",
   "version": "3.6.8"
  }
 },
 "nbformat": 4,
 "nbformat_minor": 2
}
