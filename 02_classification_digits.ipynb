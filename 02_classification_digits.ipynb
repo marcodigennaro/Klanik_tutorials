{
 "cells": [
  {
   "cell_type": "code",
   "execution_count": 1,
   "metadata": {},
   "outputs": [
    {
     "name": "stdout",
     "output_type": "stream",
     "text": [
      "Optical Recognition of Handwritten Digits Data Set\n",
      "===================================================\n",
      "\n",
      "Notes\n",
      "-----\n",
      "Data Set Characteristics:\n",
      "    :Number of Instances: 5620\n",
      "    :Number of Attributes: 64\n",
      "    :Attribute Information: 8x8 image of integer pixels in the range 0..16.\n",
      "    :Missing Attribute Values: None\n",
      "    :Creator: E. Alpaydin (alpaydin '@' boun.edu.tr)\n",
      "    :Date: July; 1998\n",
      "\n",
      "This is a copy of the test set of the UCI ML hand-written digits datasets\n",
      "http://archive.ics.uci.edu/ml/datasets/Optical+Recognition+of+Handwritten+Digits\n",
      "\n",
      "The data set contains images of hand-written digits: 10 classes where\n",
      "each class refers to a digit.\n",
      "\n",
      "Preprocessing programs made available by NIST were used to extract\n",
      "normalized bitmaps of handwritten digits from a preprinted form. From a\n",
      "total of 43 people, 30 contributed to the training set and different 13\n",
      "to the test set. 32x32 bitmaps are divided into nonoverlapping blocks of\n",
      "4x4 and the number of on pixels are counted in each block. This generates\n",
      "an input matrix of 8x8 where each element is an integer in the range\n",
      "0..16. This reduces dimensionality and gives invariance to small\n",
      "distortions.\n",
      "\n",
      "For info on NIST preprocessing routines, see M. D. Garris, J. L. Blue, G.\n",
      "T. Candela, D. L. Dimmick, J. Geist, P. J. Grother, S. A. Janet, and C.\n",
      "L. Wilson, NIST Form-Based Handprint Recognition System, NISTIR 5469,\n",
      "1994.\n",
      "\n",
      "References\n",
      "----------\n",
      "  - C. Kaynak (1995) Methods of Combining Multiple Classifiers and Their\n",
      "    Applications to Handwritten Digit Recognition, MSc Thesis, Institute of\n",
      "    Graduate Studies in Science and Engineering, Bogazici University.\n",
      "  - E. Alpaydin, C. Kaynak (1998) Cascading Classifiers, Kybernetika.\n",
      "  - Ken Tang and Ponnuthurai N. Suganthan and Xi Yao and A. Kai Qin.\n",
      "    Linear dimensionalityreduction using relevance weighted LDA. School of\n",
      "    Electrical and Electronic Engineering Nanyang Technological University.\n",
      "    2005.\n",
      "  - Claudio Gentile. A New Approximate Maximal Margin Classification\n",
      "    Algorithm. NIPS. 2000.\n",
      "\n"
     ]
    },
    {
     "data": {
      "image/png": "[encoded data removed]",
      "text/plain": [
       "<Figure size 432x288 with 1 Axes>"
      ]
     },
     "metadata": {},
     "output_type": "display_data"
    }
   ],
   "source": [
    "from sklearn import datasets, svm, metrics\n",
    "\n",
    "# The digits dataset\n",
    "digits = datasets.load_digits()\n",
    "\n",
    "print(digits.DESCR)\n",
    "\n",
    "data = digits.data\n",
    "target = digits.target\n",
    "\n",
    "plt.imshow(data[0].reshape(8,8), cmap=plt.cm.gray_r)\n",
    "plt.show()"
   ]
  },
  {
   "cell_type": "code",
   "execution_count": 2,
   "metadata": {},
   "outputs": [
    {
     "data": {
      "image/png": "[encoded data removed]",
      "text/plain": [
       "<Figure size 432x288 with 1 Axes>"
      ]
     },
     "metadata": {},
     "output_type": "display_data"
    }
   ],
   "source": [
    "plt.hist(target,alpha=0.5, histtype='bar', ec='black')\n",
    "plt.show()"
   ]
  },
  {
   "cell_type": "code",
   "execution_count": 3,
   "metadata": {},
   "outputs": [
    {
     "name": "stdout",
     "output_type": "stream",
     "text": [
      "[[ 0.  0.  0.  3. 16.  5.  0.  0.]\n",
      " [ 0.  0.  3. 14. 10.  0.  9. 11.]\n",
      " [ 0.  1. 13. 11.  0.  2. 15.  8.]\n",
      " [ 0.  7. 16.  9. 11. 16. 15.  1.]\n",
      " [ 0.  6. 15. 13. 12. 16.  9.  0.]\n",
      " [ 0.  0.  0.  0.  8. 15.  2.  0.]\n",
      " [ 0.  0.  0.  1. 15.  7.  0.  0.]\n",
      " [ 0.  0.  0.  5. 15.  2.  0.  0.]]\n",
      "[[ 0.  0.  6. 13. 12.  2.  0.  0.]\n",
      " [ 0.  0.  7.  7. 10. 12.  0.  0.]\n",
      " [ 0.  0.  0.  1. 12.  9.  0.  0.]\n",
      " [ 0.  0.  0.  7. 16.  7.  0.  0.]\n",
      " [ 0.  0.  0.  0.  5. 14.  1.  0.]\n",
      " [ 0.  1.  7.  0.  0.  7. 11.  0.]\n",
      " [ 0.  1. 16.  4.  0.  9. 11.  0.]\n",
      " [ 0.  0.  5. 13. 12. 16.  3.  0.]]\n",
      "[[ 0.  0.  0. 13.  6.  0.  0.  0.]\n",
      " [ 0.  0.  5. 16.  8.  0.  0.  0.]\n",
      " [ 0.  0. 11.  8.  0.  0.  0.  0.]\n",
      " [ 0.  0. 13.  4.  0.  0.  0.  0.]\n",
      " [ 0.  0. 14. 15. 16. 14.  5.  0.]\n",
      " [ 0.  0. 13.  7.  0.  0. 13.  1.]\n",
      " [ 0.  0. 10.  6.  0.  5. 14.  0.]\n",
      " [ 0.  0.  2. 13. 12. 15.  4.  0.]]\n",
      "[[ 0.  0.  8. 11.  0.  0.  0.  0.]\n",
      " [ 0.  0.  7. 16.  3.  0.  0.  0.]\n",
      " [ 0.  0.  6. 16. 10.  0.  0.  0.]\n",
      " [ 0.  0. 10. 16. 15.  1.  0.  0.]\n",
      " [ 0.  0.  0.  2. 16.  2.  0.  0.]\n",
      " [ 0.  0.  0.  0. 15.  9.  0.  0.]\n",
      " [ 0.  0.  6. 12. 16. 15.  8.  5.]\n",
      " [ 0.  0.  4. 15. 16. 16. 16. 16.]]\n",
      "[[ 0.  1.  7. 13. 16. 11.  0.  0.]\n",
      " [ 0. 11. 16. 13. 15. 16.  0.  0.]\n",
      " [ 0.  3.  8.  2. 16.  9.  0.  0.]\n",
      " [ 0.  0.  0.  8. 16.  4.  0.  0.]\n",
      " [ 0.  0.  0.  5. 16. 16.  5.  0.]\n",
      " [ 0.  0.  0.  0.  3. 14. 11.  0.]\n",
      " [ 0.  0.  3.  8. 14. 16.  8.  0.]\n",
      " [ 0.  0.  7. 16. 12.  7.  0.  0.]]\n",
      "[[ 0.  0.  9.  9.  4.  0.  0.  0.]\n",
      " [ 0.  0. 15. 15. 14. 12.  0.  0.]\n",
      " [ 0.  3. 10.  1.  0. 12.  5.  0.]\n",
      " [ 0.  5.  8.  0.  0.  8.  6.  0.]\n",
      " [ 0.  8.  8.  0.  0.  8.  8.  0.]\n",
      " [ 0.  5.  8.  0.  0. 10.  6.  0.]\n",
      " [ 0.  4. 13.  4.  6. 13.  0.  0.]\n",
      " [ 0.  0.  6. 16. 14.  3.  0.  0.]]\n",
      "[[ 0.  0.  0.  8. 15.  9.  1.  0.]\n",
      " [ 0.  0. 11. 14. 12. 15.  8.  0.]\n",
      " [ 0.  0. 15.  5.  6. 14.  2.  0.]\n",
      " [ 0.  0. 14. 14. 15.  1.  0.  0.]\n",
      " [ 0.  1. 13. 16.  6.  0.  0.  0.]\n",
      " [ 0.  6. 16.  9. 13.  0.  0.  0.]\n",
      " [ 0.  2. 13. 15. 16.  4.  0.  0.]\n",
      " [ 0.  0.  1.  9. 15.  2.  0.  0.]]\n",
      "[[ 0.  0.  0.  6. 13.  7.  0.  0.]\n",
      " [ 0.  0. 10. 13.  6. 15.  0.  0.]\n",
      " [ 0.  0. 12.  8.  4. 12.  0.  0.]\n",
      " [ 0.  0.  0.  1. 15.  3.  0.  0.]\n",
      " [ 0.  0.  0. 10. 15.  2.  0.  0.]\n",
      " [ 0.  0.  0.  1.  5. 15.  2.  0.]\n",
      " [ 0.  0. 14. 10.  2.  5. 11.  0.]\n",
      " [ 0.  0.  2.  7. 13. 15.  8.  0.]]\n",
      "[[ 0.  0.  6. 14.  8.  0.  0.  0.]\n",
      " [ 0.  6. 16. 10. 14.  4.  0.  0.]\n",
      " [ 0. 11.  5.  0. 11.  4.  0.  0.]\n",
      " [ 0.  4.  6.  2. 16.  2.  0.  0.]\n",
      " [ 0.  0.  0. 13.  7.  0.  0.  0.]\n",
      " [ 0.  0.  7. 14.  0.  0.  0.  0.]\n",
      " [ 0.  0. 12. 10.  8.  8.  4.  0.]\n",
      " [ 0.  0.  7. 14. 14. 14. 13.  0.]]\n"
     ]
    },
    {
     "data": {
      "image/png": "[encoded data removed]",
      "text/plain": [
       "<Figure size 432x288 with 9 Axes>"
      ]
     },
     "metadata": {},
     "output_type": "display_data"
    }
   ],
   "source": [
    "import random\n",
    "\n",
    "for ii in range(9):\n",
    "    number = np.array(data[random.randint(0,1200)]).reshape(8,8)\n",
    "    print(number)\n",
    "    plt.subplot(3, 3, ii + 1)\n",
    "    plt.axis('off')\n",
    "    plt.imshow(number, cmap=plt.cm.gray_r)\n",
    "    \n",
    "plt.show()"
   ]
  },
  {
   "cell_type": "code",
   "execution_count": 4,
   "metadata": {},
   "outputs": [],
   "source": [
    "data = digits.data\n",
    "target = digits.target\n",
    "\n",
    "my_list = list(range(1797))\n",
    "np.random.shuffle(my_list)\n",
    "train_list = my_list[:1200]\n",
    "test_list = my_list[1200:]\n",
    "\n",
    "train_data = data[train_list,:]\n",
    "test_data = data[test_list,:]\n",
    "\n",
    "train_target = target[train_list]\n",
    "test_target = target[test_list]"
   ]
  },
  {
   "cell_type": "code",
   "execution_count": 5,
   "metadata": {},
   "outputs": [
    {
     "name": "stdout",
     "output_type": "stream",
     "text": [
      "Classification report for classifier SVC(C=1.0, cache_size=200, class_weight=None, coef0=0.0,\n",
      "  decision_function_shape='ovr', degree=3, gamma=0.001, kernel='rbf',\n",
      "  max_iter=-1, probability=False, random_state=None, shrinking=True,\n",
      "  tol=0.001, verbose=False):\n",
      "             precision    recall  f1-score   support\n",
      "\n",
      "          0       1.00      1.00      1.00        56\n",
      "          1       0.98      1.00      0.99        65\n",
      "          2       1.00      1.00      1.00        49\n",
      "          3       1.00      0.97      0.98        65\n",
      "          4       1.00      0.96      0.98        55\n",
      "          5       0.98      0.98      0.98        63\n",
      "          6       1.00      1.00      1.00        60\n",
      "          7       1.00      0.98      0.99        66\n",
      "          8       0.97      0.98      0.98        61\n",
      "          9       0.93      0.98      0.96        57\n",
      "\n",
      "avg / total       0.99      0.99      0.99       597\n",
      "\n",
      "\n"
     ]
    }
   ],
   "source": [
    "classifier = svm.SVC(gamma=0.001)\n",
    "\n",
    "# We learn the digits on the first half of the digits\n",
    "classifier.fit(train_data,train_target)\n",
    "predicted = classifier.predict(test_data)\n",
    "\n",
    "print(\"Classification report for classifier %s:\\n%s\\n\"\n",
    "      % (classifier, metrics.classification_report(test_target, predicted)))"
   ]
  },
  {
   "cell_type": "code",
   "execution_count": 6,
   "metadata": {},
   "outputs": [
    {
     "name": "stdout",
     "output_type": "stream",
     "text": [
      "Confusion matrix:\n",
      "[[56  0  0  0  0  0  0  0  0  0]\n",
      " [ 0 65  0  0  0  0  0  0  0  0]\n",
      " [ 0  0 49  0  0  0  0  0  0  0]\n",
      " [ 0  0  0 63  0  1  0  0  1  0]\n",
      " [ 0  0  0  0 53  0  0  0  0  2]\n",
      " [ 0  0  0  0  0 62  0  0  0  1]\n",
      " [ 0  0  0  0  0  0 60  0  0  0]\n",
      " [ 0  0  0  0  0  0  0 65  0  1]\n",
      " [ 0  1  0  0  0  0  0  0 60  0]\n",
      " [ 0  0  0  0  0  0  0  0  1 56]]\n"
     ]
    }
   ],
   "source": [
    "print(\"Confusion matrix:\\n%s\" % metrics.confusion_matrix(test_target, predicted))"
   ]
  },
  {
   "cell_type": "code",
   "execution_count": 7,
   "metadata": {},
   "outputs": [
    {
     "data": {
      "image/png": "[encoded data removed]",
      "text/plain": [
       "<Figure size 432x288 with 9 Axes>"
      ]
     },
     "metadata": {},
     "output_type": "display_data"
    }
   ],
   "source": [
    "for ii in range(9):\n",
    "    jj = random.randint(0, len(test_list))\n",
    "    test_digit = test_data[jj].reshape(8,8)\n",
    "    pred_digit = predicted[jj]\n",
    "    plt.subplot(3, 3, ii + 1)\n",
    "    plt.axis('off')\n",
    "    plt.imshow(test_digit, cmap=plt.cm.gray_r)\n",
    "    plt.title('Prediction: %i' % pred_digit)\n",
    "plt.show()"
   ]
  },
  {
   "cell_type": "code",
   "execution_count": 8,
   "metadata": {},
   "outputs": [
    {
     "data": {
      "text/plain": [
       "<bound method BaseSVC.decision_function of SVC(C=1.0, cache_size=200, class_weight=None, coef0=0.0,\n",
       "  decision_function_shape='ovr', degree=3, gamma=0.001, kernel='rbf',\n",
       "  max_iter=-1, probability=False, random_state=None, shrinking=True,\n",
       "  tol=0.001, verbose=False)>"
      ]
     },
     "execution_count": 8,
     "metadata": {},
     "output_type": "execute_result"
    }
   ],
   "source": [
    "classifier.decision_function"
   ]
  },
  {
   "cell_type": "code",
   "execution_count": 9,
   "metadata": {},
   "outputs": [
    {
     "name": "stdout",
     "output_type": "stream",
     "text": [
      "Accuracy: 0.9865996649916248\n",
      "0 1.0 1.0\n",
      "1 1.0 0.9848484848484849\n",
      "2 1.0 1.0\n",
      "3 0.9692307692307692 1.0\n",
      "4 0.9636363636363636 1.0\n",
      "5 0.9841269841269841 0.9841269841269841\n",
      "6 1.0 1.0\n",
      "7 0.9848484848484849 1.0\n",
      "8 0.9836065573770492 0.967741935483871\n",
      "9 0.9824561403508771 0.9333333333333333\n"
     ]
    }
   ],
   "source": [
    "from sklearn import metrics\n",
    "\n",
    "# Model Accuracy: how often is the classifier correct?\n",
    "accuracy = metrics.accuracy_score(predicted, test_target)\n",
    "print(\"Accuracy:\", accuracy)\n",
    "\n",
    "# Model Precision: what percentage of positive tuples are labeled as such?\n",
    "precision = metrics.precision_score(predicted, test_target, average=None)\n",
    "\n",
    "# Model Recall: what percentage of positive tuples are labelled as such?\n",
    "recall = metrics.recall_score(predicted, test_target, average=None)\n",
    "\n",
    "for ii,jj,kk in zip(range(10), precision, recall):\n",
    "    print(ii,jj,kk)"
   ]
  },
  {
   "cell_type": "code",
   "execution_count": 12,
   "metadata": {},
   "outputs": [
    {
     "data": {
      "image/png": "[encoded data removed]",
      "text/plain": [
       "<Figure size 432x288 with 1 Axes>"
      ]
     },
     "metadata": {},
     "output_type": "display_data"
    }
   ],
   "source": [
    "plt.scatter(test_target, predicted)\n",
    "plt.show()"
   ]
  },
  {
   "cell_type": "code",
   "execution_count": null,
   "metadata": {
    "collapsed": true
   },
   "outputs": [],
   "source": []
  }
 ],
 "metadata": {
  "kernelspec": {
   "display_name": "Python 3",
   "language": "python",
   "name": "python3"
  },
  "language_info": {
   "codemirror_mode": {
    "name": "ipython",
    "version": 3
   },
   "file_extension": ".py",
   "mimetype": "text/x-python",
   "name": "python",
   "nbconvert_exporter": "python",
   "pygments_lexer": "ipython3",
   "version": "3.6.8"
  }
 },
 "nbformat": 4,
 "nbformat_minor": 2
}
