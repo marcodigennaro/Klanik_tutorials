{
 "cells": [
  {
   "cell_type": "code",
   "execution_count": null,
   "metadata": {
    "collapsed": true
   },
   "outputs": [],
   "source": [
    "from sklearn.datasets import load_iris\n",
    "from sklearn.tree import DecisionTreeClassifier"
   ]
  },
  {
   "cell_type": "code",
   "execution_count": null,
   "metadata": {
    "collapsed": true
   },
   "outputs": [],
   "source": [
    "iris = load_iris()\n",
    "\n",
    "#print(iris.DESCR)\n",
    "\n",
    "X = iris.data[:,2:]\n",
    "y = iris.target\n",
    "features = iris.feature_names[2:]"
   ]
  },
  {
   "cell_type": "code",
   "execution_count": null,
   "metadata": {},
   "outputs": [],
   "source": [
    "# Classifier\n",
    "tree_clf = DecisionTreeClassifier()\n",
    "tree_clf.fit(X,y)"
   ]
  },
  {
   "cell_type": "code",
   "execution_count": null,
   "metadata": {
    "collapsed": true
   },
   "outputs": [],
   "source": [
    "# Gini impurity: how homogeneous are the samples within the node"
   ]
  },
  {
   "cell_type": "code",
   "execution_count": null,
   "metadata": {},
   "outputs": [],
   "source": [
    "# print to file\n",
    "from sklearn.tree import export_graphviz\n",
    "export_graphviz( \n",
    "    tree_clf,\n",
    "    out_file='iris_tree.dot',\n",
    "    filled=True)\n",
    "\n",
    "from subprocess import call\n",
    "\n",
    "call(['dot', '-T', 'png', 'tree.dot', '-o', 'tree.png'])\n"
   ]
  },
  {
   "cell_type": "code",
   "execution_count": null,
   "metadata": {},
   "outputs": [],
   "source": [
    "# print interactively\n",
    "from graphviz import Source\n",
    "from sklearn import tree\n",
    "from IPython.display import display# load dataset\n",
    "from IPython.display import SVG\n",
    "\n",
    "graph = Source(tree.export_graphviz(\n",
    "    tree_clf, out_file=None,\n",
    "    feature_names=features, \n",
    "    class_names=['versicolor', 'virginica', 'setosa'],\n",
    "    filled = True))\n",
    "\n",
    "display(SVG(graph.pipe(format='svg')))"
   ]
  },
  {
   "cell_type": "code",
   "execution_count": null,
   "metadata": {},
   "outputs": [],
   "source": [
    "# Classifier\n",
    "from sklearn.ensemble import RandomForestClassifier\n",
    "rnd_clf = RandomForestClassifier(n_estimators=100)\n",
    "rnd_clf.fit( iris.data, iris.target )"
   ]
  },
  {
   "cell_type": "code",
   "execution_count": null,
   "metadata": {},
   "outputs": [],
   "source": [
    "for name, score in zip( iris.feature_names, rnd_clf.feature_importances_ ):\n",
    "    print(name, score)"
   ]
  },
  {
   "cell_type": "code",
   "execution_count": null,
   "metadata": {
    "collapsed": true
   },
   "outputs": [],
   "source": []
  }
 ],
 "metadata": {
  "kernelspec": {
   "display_name": "Python 3",
   "language": "python",
   "name": "python3"
  },
  "language_info": {
   "codemirror_mode": {
    "name": "ipython",
    "version": 3
   },
   "file_extension": ".py",
   "mimetype": "text/x-python",
   "name": "python",
   "nbconvert_exporter": "python",
   "pygments_lexer": "ipython3",
   "version": "3.6.8"
  }
 },
 "nbformat": 4,
 "nbformat_minor": 2
}
