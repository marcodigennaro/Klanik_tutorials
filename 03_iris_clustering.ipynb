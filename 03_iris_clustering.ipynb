{
 "cells": [
  {
   "cell_type": "code",
   "execution_count": null,
   "metadata": {
    "collapsed": true
   },
   "outputs": [],
   "source": [
    "from sklearn import datasets"
   ]
  },
  {
   "cell_type": "code",
   "execution_count": null,
   "metadata": {},
   "outputs": [],
   "source": [
    "## Two ways of loading the data\n",
    "# 1: as a numpy array\n",
    "iris_data = datasets.load_iris()\n",
    "print(iris_data.DESCR)"
   ]
  },
  {
   "cell_type": "code",
   "execution_count": null,
   "metadata": {},
   "outputs": [],
   "source": [
    "# 2: as a pandas dataframe\n",
    "\n",
    "iris_df = pd.DataFrame(data= np.c_[iris_data['data'], iris_data['target']],\n",
    "                       columns= iris_data['feature_names'] + ['target'])\n",
    "iris_df.head()\n",
    "iris_df.describe()"
   ]
  },
  {
   "cell_type": "code",
   "execution_count": null,
   "metadata": {},
   "outputs": [],
   "source": [
    "import matplotlib.pyplot as plt\n",
    "import seaborn as sns #; sns.set(style=\"ticks\", color_codes=True)\n",
    "\n",
    "sns.pairplot(iris_df, vars=iris_data['feature_names'], hue=\"target\")\n",
    "plt.show()"
   ]
  },
  {
   "cell_type": "markdown",
   "metadata": {},
   "source": [
    "# Clustering with K-Means"
   ]
  },
  {
   "cell_type": "code",
   "execution_count": null,
   "metadata": {},
   "outputs": [],
   "source": [
    "from sklearn.cluster import KMeans\n",
    "\n",
    "X = iris_data['data'][:,(1,3)]  #length, width\n",
    "Y = iris_data['target'] \n",
    "\n",
    "model = KMeans(n_clusters=3,\n",
    "               #max_iter = 1, \n",
    "               #init='random', n_init=10, max_iter=300, tol=0.0001, \n",
    "              )\n",
    "Y_pred = model.fit_predict(X)\n",
    "\n",
    "fig = plt.figure(figsize=(8,8))\n",
    "plt.subplot(111)\n",
    "\n",
    "color_dict = { 0:'g', 1:'r', 2:'b' }\n",
    "marker_dict = { 0:'s', 1:'o', 2:'^' }\n",
    "\n",
    "for x0, x1, y, pred in zip(X[:, 0], X[:, 1], Y, Y_pred):\n",
    "    plt.scatter(x0,x1, c=color_dict[y], marker=marker_dict[y])\n",
    "    plt.scatter(x0,x1, facecolor='none', edgecolor=color_dict[pred], marker=marker_dict[pred], s = 200)\n",
    "\n",
    "\n",
    "plt.scatter(model.cluster_centers_[:, 0], model.cluster_centers_[:, 1], s=300, c='red', marker='*')\n",
    "\n",
    "plt.show()"
   ]
  },
  {
   "cell_type": "code",
   "execution_count": null,
   "metadata": {},
   "outputs": [],
   "source": [
    "import time\n",
    "\n",
    "clusters = range(1,10)\n",
    "accuracy = []\n",
    "time_list = []\n",
    "for i in clusters:\n",
    "    t0 = time.time()\n",
    "    model = KMeans(n_clusters=i,init='random', n_init=10, max_iter=300, tol=0.0001 )\n",
    "    model.fit(X)\n",
    "    t1 = time.time()\n",
    "    accuracy.append(model.inertia_)\n",
    "    time_list.append(t1-t0)\n",
    "    \n",
    "fig = plt.figure()\n",
    "\n",
    "ax = fig.add_subplot(111) \n",
    "ax.plot(clusters, accuracy, 'b*-', markersize=15)\n",
    "ax.set_ylabel('Accuracy')\n",
    "ax.set_xlabel('Number of clusters')\n",
    "\n",
    "ax2 = ax.twinx()  # instantiate a second axes that shares the same x-axis\n",
    "ax2.set_ylabel('Time(sec)')\n",
    "ax2.plot(clusters, time_list, 'ro--')\n",
    "\n",
    "fig.suptitle('Elbow Method')\n",
    "plt.show()"
   ]
  },
  {
   "cell_type": "code",
   "execution_count": null,
   "metadata": {
    "collapsed": true
   },
   "outputs": [],
   "source": []
  }
 ],
 "metadata": {
  "kernelspec": {
   "display_name": "Python 3",
   "language": "python",
   "name": "python3"
  },
  "language_info": {
   "codemirror_mode": {
    "name": "ipython",
    "version": 3
   },
   "file_extension": ".py",
   "mimetype": "text/x-python",
   "name": "python",
   "nbconvert_exporter": "python",
   "pygments_lexer": "ipython3",
   "version": "3.6.8"
  }
 },
 "nbformat": 4,
 "nbformat_minor": 2
}
