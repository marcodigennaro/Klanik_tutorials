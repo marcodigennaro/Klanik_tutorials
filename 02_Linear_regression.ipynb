{
 "cells": [
  {
   "cell_type": "code",
   "execution_count": null,
   "metadata": {},
   "outputs": [],
   "source": [
    "import subprocess as sp\n",
    "import pandas as pd\n",
    "\n",
    "happiness_df = pd.read_csv('happiness.csv', index_col=0)\n",
    "\n",
    "happiness_df"
   ]
  },
  {
   "cell_type": "code",
   "execution_count": null,
   "metadata": {
    "collapsed": true
   },
   "outputs": [],
   "source": [
    "from sklearn.linear_model import LinearRegression\n",
    "\n",
    "import random\n",
    "\n",
    "guess_country_idx = 2 # Belgium\n",
    "var_1 = 'Personal earnings'\n",
    "var_2 = 'GDP'\n",
    "var_3 = 'Homicide rate'"
   ]
  },
  {
   "cell_type": "code",
   "execution_count": null,
   "metadata": {
    "collapsed": true
   },
   "outputs": [],
   "source": [
    "X = np.c_[happiness_df[var_1]]\n",
    "y = np.c_[happiness_df['Life satisfaction']]"
   ]
  },
  {
   "cell_type": "code",
   "execution_count": null,
   "metadata": {
    "collapsed": true
   },
   "outputs": [],
   "source": [
    "# Split train and test set"
   ]
  },
  {
   "cell_type": "code",
   "execution_count": null,
   "metadata": {
    "collapsed": true
   },
   "outputs": [],
   "source": [
    "X_train = np.delete(X, 2, 0)\n",
    "y_train = np.delete(y, 2, 0)\n",
    "\n",
    "X_test  = X[2][0]\n",
    "y_test  = y[2][0]"
   ]
  },
  {
   "cell_type": "code",
   "execution_count": null,
   "metadata": {
    "collapsed": true
   },
   "outputs": [],
   "source": [
    "model_1 = LinearRegression()\n",
    "model_1.fit(X_train,y_train)\n",
    "y_1 = model_1.predict(X_test)"
   ]
  },
  {
   "cell_type": "code",
   "execution_count": null,
   "metadata": {},
   "outputs": [],
   "source": [
    "y_1"
   ]
  },
  {
   "cell_type": "code",
   "execution_count": null,
   "metadata": {},
   "outputs": [],
   "source": [
    "import  matplotlib.pyplot as plt\n",
    "\n",
    "plt.scatter(X,y, marker='*', label='train')\n",
    "plt.scatter(X_test, y_test, label = 'test')\n",
    "plt.scatter(X_test, y_1, label = 'pred')\n",
    "plt.ylabel('Life satisfaction')\n",
    "plt.xlabel(var_1)\n",
    "plt.legend()\n",
    "plt.show()"
   ]
  },
  {
   "cell_type": "code",
   "execution_count": null,
   "metadata": {
    "collapsed": true
   },
   "outputs": [],
   "source": [
    "# fit on two variables"
   ]
  },
  {
   "cell_type": "code",
   "execution_count": null,
   "metadata": {
    "collapsed": true
   },
   "outputs": [],
   "source": [
    "X_2 = np.c_[happiness_df[[var_1, var_2]]]\n",
    "\n",
    "X_train = X_2[:-1]\n",
    "X_test  = [X_2[-1]]\n",
    "\n",
    "model_2 = LinearRegression()\n",
    "model_2.fit(X_train,y_train)\n",
    "y_2 = model_2.predict(X_test)"
   ]
  },
  {
   "cell_type": "code",
   "execution_count": null,
   "metadata": {},
   "outputs": [],
   "source": [
    "plt.scatter(y_1,y_1, color='b', marker = 's', label='{}'.format(var_1) )\n",
    "plt.scatter(y_2,y_2, color='g', marker = 'o', label='{} + {}'.format(var_2, var_3))\n",
    "plt.scatter(y_test,y_test, color='r', marker = '+', label='true')\n",
    "\n",
    "#plt.ylim([6.9,7.3])\n",
    "#plt.xlim([6.9,7.3])\n",
    "plt.legend()\n",
    "plt.show()"
   ]
  },
  {
   "cell_type": "code",
   "execution_count": null,
   "metadata": {
    "collapsed": true
   },
   "outputs": [],
   "source": []
  }
 ],
 "metadata": {
  "kernelspec": {
   "display_name": "Python 3",
   "language": "python",
   "name": "python3"
  },
  "language_info": {
   "codemirror_mode": {
    "name": "ipython",
    "version": 3
   },
   "file_extension": ".py",
   "mimetype": "text/x-python",
   "name": "python",
   "nbconvert_exporter": "python",
   "pygments_lexer": "ipython3",
   "version": "3.6.8"
  }
 },
 "nbformat": 4,
 "nbformat_minor": 2
}
