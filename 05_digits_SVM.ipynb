{
 "cells": [
  {
   "cell_type": "code",
   "execution_count": 1,
   "metadata": {},
   "outputs": [
    {
     "name": "stdout",
     "output_type": "stream",
     "text": [
      "Optical Recognition of Handwritten Digits Data Set\n",
      "===================================================\n",
      "\n",
      "Notes\n",
      "-----\n",
      "Data Set Characteristics:\n",
      "    :Number of Instances: 5620\n",
      "    :Number of Attributes: 64\n",
      "    :Attribute Information: 8x8 image of integer pixels in the range 0..16.\n",
      "    :Missing Attribute Values: None\n",
      "    :Creator: E. Alpaydin (alpaydin '@' boun.edu.tr)\n",
      "    :Date: July; 1998\n",
      "\n",
      "This is a copy of the test set of the UCI ML hand-written digits datasets\n",
      "http://archive.ics.uci.edu/ml/datasets/Optical+Recognition+of+Handwritten+Digits\n",
      "\n",
      "The data set contains images of hand-written digits: 10 classes where\n",
      "each class refers to a digit.\n",
      "\n",
      "Preprocessing programs made available by NIST were used to extract\n",
      "normalized bitmaps of handwritten digits from a preprinted form. From a\n",
      "total of 43 people, 30 contributed to the training set and different 13\n",
      "to the test set. 32x32 bitmaps are divided into nonoverlapping blocks of\n",
      "4x4 and the number of on pixels are counted in each block. This generates\n",
      "an input matrix of 8x8 where each element is an integer in the range\n",
      "0..16. This reduces dimensionality and gives invariance to small\n",
      "distortions.\n",
      "\n",
      "For info on NIST preprocessing routines, see M. D. Garris, J. L. Blue, G.\n",
      "T. Candela, D. L. Dimmick, J. Geist, P. J. Grother, S. A. Janet, and C.\n",
      "L. Wilson, NIST Form-Based Handprint Recognition System, NISTIR 5469,\n",
      "1994.\n",
      "\n",
      "References\n",
      "----------\n",
      "  - C. Kaynak (1995) Methods of Combining Multiple Classifiers and Their\n",
      "    Applications to Handwritten Digit Recognition, MSc Thesis, Institute of\n",
      "    Graduate Studies in Science and Engineering, Bogazici University.\n",
      "  - E. Alpaydin, C. Kaynak (1998) Cascading Classifiers, Kybernetika.\n",
      "  - Ken Tang and Ponnuthurai N. Suganthan and Xi Yao and A. Kai Qin.\n",
      "    Linear dimensionalityreduction using relevance weighted LDA. School of\n",
      "    Electrical and Electronic Engineering Nanyang Technological University.\n",
      "    2005.\n",
      "  - Claudio Gentile. A New Approximate Maximal Margin Classification\n",
      "    Algorithm. NIPS. 2000.\n",
      "\n"
     ]
    }
   ],
   "source": [
    "from sklearn import datasets, svm, metrics\n",
    "\n",
    "# The digits dataset\n",
    "digits = datasets.load_digits()\n",
    "\n",
    "print(digits.DESCR)"
   ]
  },
  {
   "cell_type": "code",
   "execution_count": 2,
   "metadata": {
    "collapsed": true
   },
   "outputs": [],
   "source": [
    "# Load data\n",
    "data = digits.data\n",
    "target = digits.target"
   ]
  },
  {
   "cell_type": "code",
   "execution_count": 3,
   "metadata": {},
   "outputs": [
    {
     "data": {
      "image/png": "[encoded data removed]",
      "text/plain": [
       "<Figure size 432x288 with 1 Axes>"
      ]
     },
     "metadata": {},
     "output_type": "display_data"
    }
   ],
   "source": [
    "# Plot element n=0 of the data\n",
    "#print(data[0])\n",
    "#print(data[0].reshape(8,8))\n",
    "plt.imshow(data[0].reshape(8,8), cmap=plt.cm.gray_r)\n",
    "plt.show()"
   ]
  },
  {
   "cell_type": "code",
   "execution_count": 4,
   "metadata": {},
   "outputs": [
    {
     "data": {
      "image/png": "[encoded data removed]",
      "text/plain": [
       "<Figure size 432x288 with 1 Axes>"
      ]
     },
     "metadata": {},
     "output_type": "display_data"
    }
   ],
   "source": [
    "# plot distribution of targets in data\n",
    "plt.hist(target,alpha=0.5, histtype='bar', ec='black')\n",
    "plt.show()"
   ]
  },
  {
   "cell_type": "code",
   "execution_count": 5,
   "metadata": {},
   "outputs": [
    {
     "data": {
      "image/png": "[encoded data removed]",
      "text/plain": [
       "<Figure size 432x288 with 9 Axes>"
      ]
     },
     "metadata": {},
     "output_type": "display_data"
    }
   ],
   "source": [
    "# plot n=9 random elements \n",
    "\n",
    "import random\n",
    "\n",
    "for ii in range(9):\n",
    "    number = np.array(data[random.randint(0,1200)]).reshape(8,8)\n",
    "    #print(number)\n",
    "    plt.subplot(3, 3, ii + 1)\n",
    "    plt.axis('off')\n",
    "    plt.imshow(number, cmap=plt.cm.gray_r)\n",
    "    \n",
    "plt.show()"
   ]
  },
  {
   "cell_type": "code",
   "execution_count": 6,
   "metadata": {
    "collapsed": true
   },
   "outputs": [],
   "source": [
    "## Shuffle data\n",
    "\n",
    "# generate a list and randomize it\n",
    "my_list = list(range(1797))\n",
    "np.random.shuffle(my_list)\n",
    "\n",
    "# selet random indeces for train and split \n",
    "train_list = my_list[:1200]\n",
    "test_list = my_list[1200:]\n",
    "\n",
    "# pick elements from dataset according to random indeces\n",
    "train_data = data[train_list,:]\n",
    "test_data = data[test_list,:]\n",
    "\n",
    "train_target = target[train_list]\n",
    "test_target = target[test_list]"
   ]
  },
  {
   "cell_type": "code",
   "execution_count": 7,
   "metadata": {
    "collapsed": true
   },
   "outputs": [],
   "source": [
    "classifier = svm.SVC(gamma=0.001)\n",
    "\n",
    "# We learn the digits on the first half of the digits\n",
    "classifier.fit(train_data,train_target)\n",
    "predicted = classifier.predict(test_data)"
   ]
  },
  {
   "cell_type": "code",
   "execution_count": 8,
   "metadata": {},
   "outputs": [
    {
     "name": "stdout",
     "output_type": "stream",
     "text": [
      "Confusion matrix:\n",
      "[[56  0  0  0  0  0  0  0  0  0]\n",
      " [ 0 67  0  0  0  0  0  0  0  0]\n",
      " [ 0  0 65  0  0  0  0  0  0  0]\n",
      " [ 0  0  0 73  0  1  0  0  0  0]\n",
      " [ 0  0  0  0 61  0  0  0  1  0]\n",
      " [ 0  0  0  0  0 53  1  0  0  0]\n",
      " [ 0  0  0  0  0  0 52  0  0  0]\n",
      " [ 0  0  0  0  0  0  0 52  0  1]\n",
      " [ 0  3  0  0  0  0  0  0 53  0]\n",
      " [ 0  0  0  0  0  0  0  1  0 57]]\n"
     ]
    }
   ],
   "source": [
    "print(\"Confusion matrix:\\n%s\" % metrics.confusion_matrix(test_target, predicted))"
   ]
  },
  {
   "cell_type": "code",
   "execution_count": 9,
   "metadata": {},
   "outputs": [
    {
     "name": "stdout",
     "output_type": "stream",
     "text": [
      "Classification report for classifier SVC(C=1.0, cache_size=200, class_weight=None, coef0=0.0,\n",
      "  decision_function_shape='ovr', degree=3, gamma=0.001, kernel='rbf',\n",
      "  max_iter=-1, probability=False, random_state=None, shrinking=True,\n",
      "  tol=0.001, verbose=False):\n",
      "             precision    recall  f1-score   support\n",
      "\n",
      "          0       1.00      1.00      1.00        56\n",
      "          1       0.96      1.00      0.98        67\n",
      "          2       1.00      1.00      1.00        65\n",
      "          3       1.00      0.99      0.99        74\n",
      "          4       1.00      0.98      0.99        62\n",
      "          5       0.98      0.98      0.98        54\n",
      "          6       0.98      1.00      0.99        52\n",
      "          7       0.98      0.98      0.98        53\n",
      "          8       0.98      0.95      0.96        56\n",
      "          9       0.98      0.98      0.98        58\n",
      "\n",
      "avg / total       0.99      0.99      0.99       597\n",
      "\n",
      "\n"
     ]
    }
   ],
   "source": [
    "print(\"Classification report for classifier %s:\\n%s\\n\"\n",
    "      % (classifier, metrics.classification_report(test_target, predicted)))"
   ]
  },
  {
   "cell_type": "code",
   "execution_count": 10,
   "metadata": {},
   "outputs": [
    {
     "data": {
      "image/png": "[encoded data removed]",
      "text/plain": [
       "<Figure size 432x288 with 9 Axes>"
      ]
     },
     "metadata": {},
     "output_type": "display_data"
    }
   ],
   "source": [
    "# Verify prediction on n=9 random elements\n",
    "\n",
    "for ii in range(9):\n",
    "    jj = random.randint(0, len(test_list))\n",
    "    test_digit = test_data[jj].reshape(8,8)\n",
    "    pred_digit = predicted[jj]\n",
    "    plt.subplot(3, 3, ii + 1)\n",
    "    plt.axis('off')\n",
    "    plt.imshow(test_digit, cmap=plt.cm.gray_r)\n",
    "    plt.title('Prediction: %i' % pred_digit)\n",
    "plt.show()"
   ]
  },
  {
   "cell_type": "code",
   "execution_count": 11,
   "metadata": {},
   "outputs": [
    {
     "name": "stdout",
     "output_type": "stream",
     "text": [
      "Accuracy: 0.9865996649916248\n"
     ]
    }
   ],
   "source": [
    "# Internal tools to estimate prediction\n",
    "\n",
    "# Model Accuracy: how often is the classifier correct?\n",
    "accuracy = metrics.accuracy_score(predicted, test_target)\n",
    "print(\"Accuracy:\", accuracy)"
   ]
  },
  {
   "cell_type": "code",
   "execution_count": 12,
   "metadata": {},
   "outputs": [
    {
     "name": "stdout",
     "output_type": "stream",
     "text": [
      "0 1.0 1.0\n",
      "1 1.0 0.9571428571428572\n",
      "2 1.0 1.0\n",
      "3 0.9864864864864865 1.0\n",
      "4 0.9838709677419355 1.0\n",
      "5 0.9814814814814815 0.9814814814814815\n",
      "6 1.0 0.9811320754716981\n",
      "7 0.9811320754716981 0.9811320754716981\n",
      "8 0.9464285714285714 0.9814814814814815\n",
      "9 0.9827586206896551 0.9827586206896551\n"
     ]
    }
   ],
   "source": [
    "# Model Precision: what percentage of positive tuples are labeled as such?\n",
    "precision = metrics.precision_score(predicted, test_target, average=None)\n",
    "\n",
    "# Model Recall: what percentage of positive tuples are labelled as such?\n",
    "recall = metrics.recall_score(predicted, test_target, average=None)\n",
    "\n",
    "for ii,jj,kk in zip(range(10), precision, recall):\n",
    "    print(ii,jj,kk)"
   ]
  },
  {
   "cell_type": "code",
   "execution_count": 13,
   "metadata": {
    "collapsed": true
   },
   "outputs": [],
   "source": [
    "import pandas as pd"
   ]
  },
  {
   "cell_type": "code",
   "execution_count": 14,
   "metadata": {},
   "outputs": [
    {
     "data": {
      "text/plain": [
       "{0: {'precision': 1.0, 'recall': 1.0},\n",
       " 1: {'precision': 1.0, 'recall': 0.9571428571428572},\n",
       " 2: {'precision': 1.0, 'recall': 1.0},\n",
       " 3: {'precision': 0.9864864864864865, 'recall': 1.0},\n",
       " 4: {'precision': 0.9838709677419355, 'recall': 1.0},\n",
       " 5: {'precision': 0.9814814814814815, 'recall': 0.9814814814814815},\n",
       " 6: {'precision': 1.0, 'recall': 0.9811320754716981},\n",
       " 7: {'precision': 0.9811320754716981, 'recall': 0.9811320754716981},\n",
       " 8: {'precision': 0.9464285714285714, 'recall': 0.9814814814814815},\n",
       " 9: {'precision': 0.9827586206896551, 'recall': 0.9827586206896551}}"
      ]
     },
     "execution_count": 14,
     "metadata": {},
     "output_type": "execute_result"
    }
   ],
   "source": [
    "my_dict = {}\n",
    "for ii,jj,kk in zip(range(10), precision, recall):\n",
    "    my_dict[ii] = { 'precision' : jj, 'recall' :kk }\n",
    "my_dict"
   ]
  },
  {
   "cell_type": "code",
   "execution_count": 15,
   "metadata": {},
   "outputs": [
    {
     "data": {
      "text/html": [
       "<div>\n",
       "<style>\n",
       "    .dataframe thead tr:only-child th {\n",
       "        text-align: right;\n",
       "    }\n",
       "\n",
       "    .dataframe thead th {\n",
       "        text-align: left;\n",
       "    }\n",
       "\n",
       "    .dataframe tbody tr th {\n",
       "        vertical-align: top;\n",
       "    }\n",
       "</style>\n",
       "<table border=\"1\" class=\"dataframe\">\n",
       "  <thead>\n",
       "    <tr style=\"text-align: right;\">\n",
       "      <th></th>\n",
       "      <th>0</th>\n",
       "      <th>1</th>\n",
       "      <th>2</th>\n",
       "      <th>3</th>\n",
       "      <th>4</th>\n",
       "      <th>5</th>\n",
       "      <th>6</th>\n",
       "      <th>7</th>\n",
       "      <th>8</th>\n",
       "      <th>9</th>\n",
       "    </tr>\n",
       "  </thead>\n",
       "  <tbody>\n",
       "    <tr>\n",
       "      <th>precision</th>\n",
       "      <td>1.0</td>\n",
       "      <td>1.000000</td>\n",
       "      <td>1.0</td>\n",
       "      <td>0.986486</td>\n",
       "      <td>0.983871</td>\n",
       "      <td>0.981481</td>\n",
       "      <td>1.000000</td>\n",
       "      <td>0.981132</td>\n",
       "      <td>0.946429</td>\n",
       "      <td>0.982759</td>\n",
       "    </tr>\n",
       "    <tr>\n",
       "      <th>recall</th>\n",
       "      <td>1.0</td>\n",
       "      <td>0.957143</td>\n",
       "      <td>1.0</td>\n",
       "      <td>1.000000</td>\n",
       "      <td>1.000000</td>\n",
       "      <td>0.981481</td>\n",
       "      <td>0.981132</td>\n",
       "      <td>0.981132</td>\n",
       "      <td>0.981481</td>\n",
       "      <td>0.982759</td>\n",
       "    </tr>\n",
       "  </tbody>\n",
       "</table>\n",
       "</div>"
      ],
      "text/plain": [
       "             0         1    2         3         4         5         6  \\\n",
       "precision  1.0  1.000000  1.0  0.986486  0.983871  0.981481  1.000000   \n",
       "recall     1.0  0.957143  1.0  1.000000  1.000000  0.981481  0.981132   \n",
       "\n",
       "                  7         8         9  \n",
       "precision  0.981132  0.946429  0.982759  \n",
       "recall     0.981132  0.981481  0.982759  "
      ]
     },
     "execution_count": 15,
     "metadata": {},
     "output_type": "execute_result"
    }
   ],
   "source": [
    "pd.DataFrame.from_dict(my_dict)"
   ]
  }
 ],
 "metadata": {
  "kernelspec": {
   "display_name": "Python 3",
   "language": "python",
   "name": "python3"
  },
  "language_info": {
   "codemirror_mode": {
    "name": "ipython",
    "version": 3
   },
   "file_extension": ".py",
   "mimetype": "text/x-python",
   "name": "python",
   "nbconvert_exporter": "python",
   "pygments_lexer": "ipython3",
   "version": "3.6.8"
  }
 },
 "nbformat": 4,
 "nbformat_minor": 2
}
