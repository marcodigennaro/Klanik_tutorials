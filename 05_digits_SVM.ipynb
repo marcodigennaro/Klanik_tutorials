{
 "cells": [
  {
   "cell_type": "code",
   "execution_count": null,
   "metadata": {},
   "outputs": [],
   "source": [
    "from sklearn import datasets, svm, metrics\n",
    "\n",
    "# The digits dataset\n",
    "digits = datasets.load_digits()\n",
    "\n",
    "print(digits.DESCR)"
   ]
  },
  {
   "cell_type": "code",
   "execution_count": null,
   "metadata": {
    "collapsed": true
   },
   "outputs": [],
   "source": [
    "# Load data\n",
    "data = digits.data\n",
    "target = digits.target"
   ]
  },
  {
   "cell_type": "code",
   "execution_count": null,
   "metadata": {},
   "outputs": [],
   "source": [
    "# Plot element n=0 of the data\n",
    "#print(data[0])\n",
    "#print(data[0].reshape(8,8))\n",
    "plt.imshow(data[0].reshape(8,8), cmap=plt.cm.gray_r)\n",
    "plt.show()"
   ]
  },
  {
   "cell_type": "code",
   "execution_count": null,
   "metadata": {},
   "outputs": [],
   "source": [
    "# plot distribution of targets in data\n",
    "plt.hist(target,alpha=0.5, histtype='bar', ec='black')\n",
    "plt.show()"
   ]
  },
  {
   "cell_type": "code",
   "execution_count": null,
   "metadata": {},
   "outputs": [],
   "source": [
    "# plot n=9 random elements \n",
    "\n",
    "import random\n",
    "\n",
    "for ii in range(9):\n",
    "    number = np.array(data[random.randint(0,1200)]).reshape(8,8)\n",
    "    #print(number)\n",
    "    plt.subplot(3, 3, ii + 1)\n",
    "    plt.axis('off')\n",
    "    plt.imshow(number, cmap=plt.cm.gray_r)\n",
    "    \n",
    "plt.show()"
   ]
  },
  {
   "cell_type": "code",
   "execution_count": null,
   "metadata": {
    "collapsed": true
   },
   "outputs": [],
   "source": [
    "## Shuffle data\n",
    "\n",
    "# generate a list and randomize it\n",
    "my_list = list(range(1797))\n",
    "np.random.shuffle(my_list)\n",
    "\n",
    "# selet random indeces for train and split \n",
    "train_list = my_list[:1200]\n",
    "test_list = my_list[1200:]\n",
    "\n",
    "# pick elements from dataset according to random indeces\n",
    "train_data = data[train_list,:]\n",
    "test_data = data[test_list,:]\n",
    "\n",
    "train_target = target[train_list]\n",
    "test_target = target[test_list]"
   ]
  },
  {
   "cell_type": "code",
   "execution_count": null,
   "metadata": {
    "collapsed": true
   },
   "outputs": [],
   "source": [
    "classifier = svm.SVC(gamma=0.001)\n",
    "\n",
    "# We learn the digits on the first half of the digits\n",
    "classifier.fit(train_data,train_target)\n",
    "predicted = classifier.predict(test_data)"
   ]
  },
  {
   "cell_type": "code",
   "execution_count": null,
   "metadata": {},
   "outputs": [],
   "source": [
    "print(\"Confusion matrix:\\n%s\" % metrics.confusion_matrix(test_target, predicted))"
   ]
  },
  {
   "cell_type": "code",
   "execution_count": null,
   "metadata": {},
   "outputs": [],
   "source": [
    "print(\"Classification report for classifier %s:\\n%s\\n\"\n",
    "      % (classifier, metrics.classification_report(test_target, predicted)))"
   ]
  },
  {
   "cell_type": "code",
   "execution_count": null,
   "metadata": {},
   "outputs": [],
   "source": [
    "# Verify prediction on n=9 random elements\n",
    "\n",
    "for ii in range(9):\n",
    "    jj = random.randint(0, len(test_list))\n",
    "    test_digit = test_data[jj].reshape(8,8)\n",
    "    pred_digit = predicted[jj]\n",
    "    plt.subplot(3, 3, ii + 1)\n",
    "    plt.axis('off')\n",
    "    plt.imshow(test_digit, cmap=plt.cm.gray_r)\n",
    "    plt.title('Prediction: %i' % pred_digit)\n",
    "plt.show()"
   ]
  },
  {
   "cell_type": "code",
   "execution_count": null,
   "metadata": {},
   "outputs": [],
   "source": [
    "# Internal tools to estimate prediction\n",
    "\n",
    "# Model Accuracy: how often is the classifier correct?\n",
    "accuracy = metrics.accuracy_score(predicted, test_target)\n",
    "print(\"Accuracy:\", accuracy)"
   ]
  },
  {
   "cell_type": "code",
   "execution_count": null,
   "metadata": {},
   "outputs": [],
   "source": [
    "# Model Precision: what percentage of positive tuples are labeled as such?\n",
    "precision = metrics.precision_score(predicted, test_target, average=None)\n",
    "\n",
    "# Model Recall: what percentage of positive tuples are labelled as such?\n",
    "recall = metrics.recall_score(predicted, test_target, average=None)\n",
    "\n",
    "for ii,jj,kk in zip(range(10), precision, recall):\n",
    "    print(ii,jj,kk)"
   ]
  },
  {
   "cell_type": "code",
   "execution_count": null,
   "metadata": {
    "collapsed": true
   },
   "outputs": [],
   "source": [
    "import pandas as pd"
   ]
  },
  {
   "cell_type": "code",
   "execution_count": null,
   "metadata": {},
   "outputs": [],
   "source": [
    "my_dict = {}\n",
    "for ii,jj,kk in zip(range(10), precision, recall):\n",
    "    my_dict[ii] = { 'precision' : jj, 'recall' :kk }\n",
    "my_dict"
   ]
  },
  {
   "cell_type": "code",
   "execution_count": null,
   "metadata": {},
   "outputs": [],
   "source": [
    "pd.DataFrame.from_dict(my_dict)"
   ]
  }
 ],
 "metadata": {
  "kernelspec": {
   "display_name": "Python 3",
   "language": "python",
   "name": "python3"
  },
  "language_info": {
   "codemirror_mode": {
    "name": "ipython",
    "version": 3
   },
   "file_extension": ".py",
   "mimetype": "text/x-python",
   "name": "python",
   "nbconvert_exporter": "python",
   "pygments_lexer": "ipython3",
   "version": "3.6.8"
  }
 },
 "nbformat": 4,
 "nbformat_minor": 2
}
